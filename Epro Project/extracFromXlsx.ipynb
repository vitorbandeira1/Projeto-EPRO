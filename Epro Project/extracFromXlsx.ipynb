{
 "cells": [
  {
   "cell_type": "code",
   "execution_count": 6,
   "id": "163dc99b",
   "metadata": {},
   "outputs": [],
   "source": [
    "import pandas as pd"
   ]
  },
  {
   "cell_type": "code",
   "execution_count": 7,
   "id": "6eb6b671",
   "metadata": {},
   "outputs": [
    {
     "output_type": "stream",
     "name": "stdout",
     "text": [
      "  usuarios                                           mensagem\n0   daniel  mansagem de teste para efetuar teste de acessa...\n1   rafael  estudar trabalhho do eletromagnetismo era uma ...\n2    pedro                    loremipslum delegacio skate bob\n3     levi                    alo alo treste frease de filler\n4    vitor                             cara vc e um bobo pprt\n5   carlos                  ola boa noite que bom que vc veio\n6     caue            assistir aulas de modelagem e simulacao\n"
     ]
    },
    {
     "output_type": "execute_result",
     "data": {
      "text/plain": [
       "7"
      ]
     },
     "metadata": {},
     "execution_count": 7
    }
   ],
   "source": [
    "planilha1=pd.read_excel(\"assets\\exemplo.xlsx\")\n",
    "print(planilha1)\n",
    "\n",
    "totalRow = len(planilha1)\n",
    "totalRow"
   ]
  },
  {
   "cell_type": "code",
   "execution_count": 8,
   "id": "61f7afbb",
   "metadata": {
    "scrolled": true
   },
   "outputs": [
    {
     "output_type": "stream",
     "name": "stdout",
     "text": [
      "['daniel', 'rafael', 'pedro', 'levi', 'vitor', 'carlos', 'caue', 'mansagem de teste para efetuar teste de acessar dados', 'estudar trabalhho do eletromagnetismo era uma porrada', 'loremipslum delegacio skate bob', 'alo alo treste frease de filler', 'cara vc e um bobo pprt', 'ola boa noite que bom que vc veio', 'assistir aulas de modelagem e simulacao']\n"
     ]
    }
   ],
   "source": [
    "# sum_column = planilha1[\"usuarios\"] + \" \" + planilha1[\"mensagem\"]\n",
    "users = planilha1[\"usuarios\"]\n",
    "msg = planilha1[\"mensagem\"]\n",
    "userString = list(users)\n",
    "msgString = list(msg)\n",
    "# print(userString)\n",
    "# print(msgString)\n",
    "# i = 0\n",
    "# for i in totalRow:\n",
    "    \n",
    "# print(len(userString))\n",
    "# print(len(msgString))\n",
    "dataAll = userString + msgString\n",
    "print (dataAll)\n",
    "# print (len(dataAll))"
   ]
  },
  {
   "cell_type": "code",
   "execution_count": 9,
   "id": "dfe798ee",
   "metadata": {},
   "outputs": [
    {
     "output_type": "stream",
     "name": "stdout",
     "text": [
      "{'daniel': 'mansagem de teste para efetuar teste de acessar dados', 'rafael': 'estudar trabalhho do eletromagnetismo era uma porrada', 'pedro': 'loremipslum delegacio skate bob', 'levi': 'alo alo treste frease de filler', 'vitor': 'cara vc e um bobo pprt', 'carlos': 'ola boa noite que bom que vc veio', 'caue': 'assistir aulas de modelagem e simulacao'}\n"
     ]
    }
   ],
   "source": [
    "dicData = {}\n",
    "m = 0\n",
    "metadeCount=int(len(dataAll)/2)\n",
    "\n",
    "while m < metadeCount:\n",
    "    user = dataAll[m]\n",
    "    msg = dataAll[m+metadeCount]\n",
    "    dicData[user]=msg\n",
    "    m+=1\n",
    "    \n",
    "print(dicData)"
   ]
  },
  {
   "cell_type": "code",
   "execution_count": 11,
   "metadata": {},
   "outputs": [],
   "source": [
    "def extractFromXlsx(planilha):\n",
    "    users = planilha1[\"usuarios\"]\n",
    "    msg = planilha1[\"mensagem\"]\n",
    "    dataAll = list(users) + list(msg)\n",
    "    dicData = {}\n",
    "    m = 0\n",
    "    metadeCount=int(len(dataAll)/2)\n",
    "    while m < metadeCount:\n",
    "        user = dataAll[m]\n",
    "        msg = dataAll[m+metadeCount]\n",
    "        dicData[user]=msg\n",
    "        m+=1\n",
    "    return dicData"
   ]
  },
  {
   "cell_type": "code",
   "execution_count": 16,
   "metadata": {},
   "outputs": [
    {
     "output_type": "stream",
     "name": "stdout",
     "text": [
      "{'daniel': 'mansagem de teste para efetuar teste de acessar dados', 'rafael': 'estudar trabalhho do eletromagnetismo era uma porrada', 'pedro': 'loremipslum delegacio skate bob', 'levi': 'alo alo treste frease de filler', 'vitor': 'cara vc e um bobo pprt', 'carlos': 'ola boa noite que bom que vc veio', 'caue': 'assistir aulas de modelagem e simulacao'}\n"
     ]
    }
   ],
   "source": [
    "dataDict=extractFromXlsx(planilha1)\n",
    "print(dataDict)"
   ]
  },
  {
   "cell_type": "code",
   "execution_count": 17,
   "metadata": {},
   "outputs": [
    {
     "output_type": "stream",
     "name": "stdout",
     "text": [
      "daniel\nmansagem de teste para efetuar teste de acessar dados\nfinalizando loop\nrafael\nestudar trabalhho do eletromagnetismo era uma porrada\nfinalizando loop\npedro\nloremipslum delegacio skate bob\nfinalizando loop\nlevi\nalo alo treste frease de filler\nfinalizando loop\nvitor\ncara vc e um bobo pprt\nfinalizando loop\ncarlos\nola boa noite que bom que vc veio\nfinalizando loop\ncaue\nassistir aulas de modelagem e simulacao\nfinalizando loop\n"
     ]
    }
   ],
   "source": [
    "for k, v in dataDict.items():\n",
    "    print (k)\n",
    "    print (v)\n",
    "    print ('finalizando loop')"
   ]
  },
  {
   "cell_type": "code",
   "execution_count": null,
   "id": "73d8e8c7",
   "metadata": {},
   "outputs": [],
   "source": [
    "        for k, v in dataDict.items():\n",
    "            # escrevendo username\n",
    "            self.bot.find_element_by_xpath(\n",
    "                '/html/body/div[5]/div/div/div[2]/div[1]/div/div[2]/input').send_keys(k) \n",
    "            time.sleep(2)\n",
    "            # clicabdo username\n",
    "            self.bot.find_element_by_xpath(\n",
    "                '/html/body/div[5]/div/div/div[2]/div[2]/div[1]/div').click()\n",
    "            time.sleep(2)  \n",
    "            # butao de next\n",
    "            self.bot.find_element_by_xpath(\n",
    "                '/html/body/div[5]/div/div/div[1]/div/div[2]/div/button/div').click()       \n",
    "            time.sleep(2)\n",
    "            # clicando msg\n",
    "            send = self.bot.find_element_by_xpath(\n",
    "                '//*[@id=\"react-root\"]/section/div/div[2]/div/div/div[2]/div[2]/div/div[2]/div/div/div[2]/textarea')\n",
    "            # escrevendo msg\n",
    "            send.send_keys(v)\n",
    "            time.sleep(1)\n",
    "            # mandando msg\n",
    "            send.send_keys(Keys.RETURN)\n",
    "            time.sleep(2)\n",
    "            self.bot.find_element_by_xpath(\n",
    "                '/html/body/div[1]/section/div/div[2]/div/div/div[1]/div[1]/div/div[3]/button').click()\n",
    "            time.sleep(2)"
   ]
  },
  {
   "cell_type": "code",
   "execution_count": 21,
   "metadata": {},
   "outputs": [
    {
     "output_type": "stream",
     "name": "stdout",
     "text": [
      "e\n"
     ]
    },
    {
     "output_type": "execute_result",
     "data": {
      "text/plain": [
       "1"
      ]
     },
     "metadata": {},
     "execution_count": 21
    }
   ],
   "source": [
    "x = ['a','b','c']\n",
    "users = list(planilha1[\"usuarios\"])\n",
    "if type(users) is list:\n",
    "    print(\"e\")\n",
    "y = ['a']\n",
    "len(y)"
   ]
  }
 ],
 "metadata": {
  "kernelspec": {
   "name": "python383jvsc74a57bd02db524e06e9f5f4ffedc911c917cb75e12dbc923643829bf417064a77eb14d37",
   "display_name": "Python 3.8.3 64-bit"
  },
  "language_info": {
   "codemirror_mode": {
    "name": "ipython",
    "version": 3
   },
   "file_extension": ".py",
   "mimetype": "text/x-python",
   "name": "python",
   "nbconvert_exporter": "python",
   "pygments_lexer": "ipython3",
   "version": "3.8.3"
  },
  "metadata": {
   "interpreter": {
    "hash": "2db524e06e9f5f4ffedc911c917cb75e12dbc923643829bf417064a77eb14d37"
   }
  }
 },
 "nbformat": 4,
 "nbformat_minor": 5
}